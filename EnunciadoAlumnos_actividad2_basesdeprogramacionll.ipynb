{
  "nbformat": 4,
  "nbformat_minor": 0,
  "metadata": {
    "colab": {
      "provenance": [],
      "authorship_tag": "ABX9TyOqUrQ+YR1tgM1LSgTcCz3I",
      "include_colab_link": true
    },
    "kernelspec": {
      "name": "python3",
      "display_name": "Python 3"
    },
    "language_info": {
      "name": "python"
    }
  },
  "cells": [
    {
      "cell_type": "markdown",
      "metadata": {
        "id": "view-in-github",
        "colab_type": "text"
      },
      "source": [
        "<a href=\"https://colab.research.google.com/github/NachiBasaldella/PROYECTO02/blob/main/EnunciadoAlumnos_actividad2_basesdeprogramacionll.ipynb\" target=\"_parent\"><img src=\"https://colab.research.google.com/assets/colab-badge.svg\" alt=\"Open In Colab\"/></a>"
      ]
    },
    {
      "cell_type": "code",
      "execution_count": null,
      "metadata": {
        "id": "ibsY6GaS-Cst"
      },
      "outputs": [],
      "source": [
        "#Supongamos que estás gestionando un sistema de inventario para una tienda de electrónica. Debes crear un programa en Python que utilice una estructura de datos adecuada para administrar el inventario de productos. El inventario debe incluir información sobre el nombre del producto, el precio unitario y la cantidad disponible en stock.\n",
        "\n",
        "#Debes implementar las siguientes operaciones:\n",
        "\n",
        "#Agregar un nuevo producto al inventario, proporcionando el nombre, el precio unitario y la cantidad disponible.\n",
        "#Actualizar la cantidad disponible de un producto existente en el inventario.\n",
        "#Buscar un producto en el inventario por su nombre y mostrar su información.\n",
        "#Mostrar la lista de todos los productos en el inventario junto con su información.\n",
        "#Calcular el valor total del inventario (precio unitario * cantidad disponible) y mostrarlo.\n",
        "#Implementa una solución utilizando una estructura de datos adecuada para representar el inventario y proporciona un programa que permita realizar estas operaciones.\n",
        "\n"
      ]
    }
  ]
}