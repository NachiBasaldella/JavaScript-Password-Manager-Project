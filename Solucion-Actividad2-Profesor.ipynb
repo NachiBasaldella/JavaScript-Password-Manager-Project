{
  "nbformat": 4,
  "nbformat_minor": 0,
  "metadata": {
    "colab": {
      "provenance": [],
      "authorship_tag": "ABX9TyPupvbIAM8hInDih+x6YH8k",
      "include_colab_link": true
    },
    "kernelspec": {
      "name": "python3",
      "display_name": "Python 3"
    },
    "language_info": {
      "name": "python"
    }
  },
  "cells": [
    {
      "cell_type": "markdown",
      "metadata": {
        "id": "view-in-github",
        "colab_type": "text"
      },
      "source": [
        "<a href=\"https://colab.research.google.com/github/NachiBasaldella/PROYECTO02/blob/main/Solucion-Actividad2-Profesor.ipynb\" target=\"_parent\"><img src=\"https://colab.research.google.com/assets/colab-badge.svg\" alt=\"Open In Colab\"/></a>"
      ]
    },
    {
      "cell_type": "code",
      "execution_count": null,
      "metadata": {
        "id": "z_1Qs3wcBCPS"
      },
      "outputs": [],
      "source": [
        "class Inventario:\n",
        "    def __init__(self):\n",
        "        self.inventario = {}\n",
        "\n",
        "    def agregar_producto(self, nombre, precio, cantidad):\n",
        "        if nombre in self.inventario:\n",
        "            print(f\"El producto {nombre} ya existe en el inventario.\")\n",
        "        else:\n",
        "            self.inventario[nombre] = (precio, cantidad)\n",
        "            print(f\"Producto {nombre} agregado al inventario.\")\n",
        "\n",
        "    def actualizar_cantidad(self, nombre, nueva_cantidad):\n",
        "        if nombre in self.inventario:\n",
        "            precio, _ = self.inventario[nombre]\n",
        "            self.inventario[nombre] = (precio, nueva_cantidad)\n",
        "            print(f\"Cantidad de {nombre} actualizada a {nueva_cantidad}.\")\n",
        "        else:\n",
        "            print(f\"El producto {nombre} no existe en el inventario.\")\n",
        "\n",
        "    def buscar_producto(self, nombre):\n",
        "        if nombre in self.inventario:\n",
        "            precio, cantidad = self.inventario[nombre]\n",
        "            print(f\"Nombre: {nombre}, Precio Unitario: ${precio}, Cantidad en Stock: {cantidad}\")\n",
        "        else:\n",
        "            print(f\"El producto {nombre} no existe en el inventario.\")\n",
        "\n",
        "    def listar_productos(self):\n",
        "        for nombre, (precio, cantidad) in self.inventario.items():\n",
        "            print(f\"Nombre: {nombre}, Precio Unitario: ${precio}, Cantidad en Stock: {cantidad}\")\n",
        "\n",
        "    def calcular_valor_total(self):\n",
        "        valor_total = sum(precio * cantidad for precio, cantidad in self.inventario.values())\n",
        "        print(f\"Valor Total del Inventario: ${valor_total:.2f}\")\n",
        "\n",
        "\n",
        "# Ejemplo de uso con asserts:\n",
        "inventario = Inventario()\n",
        "inventario.agregar_producto(\"Laptop\", 800, 10)\n",
        "inventario.agregar_producto(\"Smartphone\", 300, 20)\n",
        "inventario.actualizar_cantidad(\"Laptop\", 8)\n",
        "inventario.buscar_producto(\"Smartphone\")\n",
        "inventario.listar_productos()\n",
        "inventario.calcular_valor_total()\n",
        "\n",
        "# Verificaciones con asserts\n",
        "assert \"Laptop\" in inventario.inventario\n",
        "assert inventario.inventario[\"Laptop\"] == (800, 8)\n",
        "assert \"Smartphone\" in inventario.inventario\n",
        "assert inventario.inventario[\"Smartphone\"] == (300, 20)\n"
      ]
    }
  ]
}